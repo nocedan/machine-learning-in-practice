{
 "cells": [
  {
   "cell_type": "markdown",
   "metadata": {},
   "source": [
    "# Tutorial - Introdução ao Python para análise de dados"
   ]
  },
  {
   "cell_type": "markdown",
   "metadata": {},
   "source": [
    "![python logo](python-logo.png)"
   ]
  },
  {
   "cell_type": "markdown",
   "metadata": {},
   "source": [
    "### Hands on!\n",
    "\n",
    "- A linguagem python\n",
    "- Instalação da distribuição Anaconda\n",
    "- Lição de casa: Codeacademy + recursos online\n",
    "- Hands on com o Pandas: leitura de csv + Dataframe basics\n",
    "- Comentário: conexão com o banco de dados\n",
    "- Análise Exploratória e Estatísticas basicas"
   ]
  },
  {
   "cell_type": "markdown",
   "metadata": {},
   "source": [
    "### A linguagem Python\n",
    "\n",
    "- Python é fácil de aprender!\n",
    "- Toda linguagem de programação tem tipos fundamentais, estruturas de dados\n",
    "- Toda linguagem de programação tem: instruções, expressões, operações, funções, módulos, métodos e classes\n",
    "\n",
    "- Aprendizado ativo:\n",
    "https://docs.python.org/3/tutorial/index.html\n",
    "- copiar ajuda, Stackoverflow também\n",
    "- https://stackoverflow.com/ - inglês"
   ]
  },
  {
   "cell_type": "markdown",
   "metadata": {},
   "source": [
    "\"Python is an easy to learn, powerful programming language. It has efficient high-level data structures and a simple but effective approach to object-oriented programming. Python’s elegant syntax and dynamic typing, together with its interpreted nature, make it an ideal language for scripting and rapid application development in many areas on most platforms.\""
   ]
  },
  {
   "cell_type": "code",
   "execution_count": 20,
   "metadata": {},
   "outputs": [
    {
     "data": {
      "text/plain": [
       "True"
      ]
     },
     "execution_count": 20,
     "metadata": {},
     "output_type": "execute_result"
    }
   ],
   "source": [
    "10 < 1000"
   ]
  },
  {
   "cell_type": "code",
   "execution_count": 7,
   "metadata": {},
   "outputs": [
    {
     "data": {
      "text/plain": [
       "True"
      ]
     },
     "execution_count": 7,
     "metadata": {},
     "output_type": "execute_result"
    }
   ],
   "source": [
    "# expressões de comparação\n",
    "nan = float('NaN')\n",
    "nan is nan"
   ]
  },
  {
   "cell_type": "code",
   "execution_count": 8,
   "metadata": {},
   "outputs": [
    {
     "data": {
      "text/plain": [
       "False"
      ]
     },
     "execution_count": 8,
     "metadata": {},
     "output_type": "execute_result"
    }
   ],
   "source": [
    "10 > nan"
   ]
  },
  {
   "cell_type": "code",
   "execution_count": 10,
   "metadata": {},
   "outputs": [
    {
     "data": {
      "text/plain": [
       "True"
      ]
     },
     "execution_count": 10,
     "metadata": {},
     "output_type": "execute_result"
    }
   ],
   "source": [
    "# operações de verificação de pertencimento\n",
    "10 in [10, 20,30]\n",
    "\"He\" not in [\"Vivi\", \"Doug\", \"Maria\"]"
   ]
  },
  {
   "cell_type": "code",
   "execution_count": null,
   "metadata": {},
   "outputs": [],
   "source": [
    "- O que torna o Python diferente?\n",
    "\n",
    "Listas - Coleções de alto nível, criadas para armazenar informações relacionadas\n",
    "for loops\n",
    "# Instruções de filtros e loops que produzem outras listas\n",
    "list compression\n",
    "funções\n",
    "recursão"
   ]
  },
  {
   "cell_type": "code",
   "execution_count": 12,
   "metadata": {},
   "outputs": [
    {
     "data": {
      "text/plain": [
       "3"
      ]
     },
     "execution_count": 12,
     "metadata": {},
     "output_type": "execute_result"
    }
   ],
   "source": [
    "#funções\n",
    "\n",
    "#Built in \n",
    "len([\"Vivi\", \"Doug\", \"Maria\"])"
   ]
  },
  {
   "cell_type": "code",
   "execution_count": 13,
   "metadata": {},
   "outputs": [],
   "source": [
    "def whats_on_the_telly(penguin=None):\n",
    "    if penguin is None:\n",
    "        penguin = []\n",
    "    penguin.append(\"property of the zoo\")\n",
    "    print(penguin)\n",
    "    return penguin"
   ]
  },
  {
   "cell_type": "code",
   "execution_count": 15,
   "metadata": {},
   "outputs": [
    {
     "data": {
      "text/plain": [
       "datetime.datetime(2019, 5, 26, 11, 9, 25, 295476)"
      ]
     },
     "execution_count": 15,
     "metadata": {},
     "output_type": "execute_result"
    }
   ],
   "source": [
    "# modulos\n",
    "\n",
    "import datetime\n",
    "\n",
    "datetime.datetime.now()"
   ]
  },
  {
   "cell_type": "code",
   "execution_count": 18,
   "metadata": {},
   "outputs": [
    {
     "name": "stdout",
     "output_type": "stream",
     "text": [
      "I am a C\n"
     ]
    }
   ],
   "source": [
    "#methods and classes\n",
    "class C:\n",
    "    def my_method(self):\n",
    "        print (\"I am a C\")\n",
    "\n",
    "c = C()\n",
    "c.my_method()  # Prints \"I am a C\""
   ]
  },
  {
   "cell_type": "markdown",
   "metadata": {},
   "source": [
    "### Instalação da distribuição Anaconda\n",
    "\n",
    "Instalar o python, criar ambientes baixar todos os pacotes mais comuns na análise de dados pode ser uma tarefa demorada para iniciantes. Ao invés disso, vamos direto ao ponto, instalando uma distribuição que faz tudo isso de forma simples.\n",
    "\n",
    "Vá para o site https://www.anaconda.com/distribution/ e faça o download em \"Python 3.7 version\""
   ]
  },
  {
   "cell_type": "markdown",
   "metadata": {},
   "source": [
    "### Aprofundando o conhecimento\n",
    "\n",
    "- Lição de casa: Codeacademy, curso de python 2\n",
    "- https://docs.python.org/3/tutorial/index.html"
   ]
  },
  {
   "cell_type": "markdown",
   "metadata": {},
   "source": [
    "### Pandas Hands On!"
   ]
  },
  {
   "cell_type": "markdown",
   "metadata": {},
   "source": [
    "- Manipulação de DataFrames rápida e eficiente com índices integrados\n",
    "- Performance otimizada com caminhos críticos de código escritos em Cython e C\n",
    "- Ferramentas para leitura e escrita entre estruturas de dados em memória e diferentes formatos: CSV, arquivos de texto, MS Excel, SQL databases"
   ]
  },
  {
   "cell_type": "code",
   "execution_count": 8,
   "metadata": {},
   "outputs": [],
   "source": [
    "import pandas as pd"
   ]
  },
  {
   "cell_type": "code",
   "execution_count": 9,
   "metadata": {},
   "outputs": [],
   "source": [
    "#leitura de csv"
   ]
  },
  {
   "cell_type": "markdown",
   "metadata": {},
   "source": [
    "**pandas.read_csv()** accepts the following common arguments:\n",
    "\n",
    "filepath_or_buffer : various\n",
    "\n",
    "sep : str, defaults to ',' for read_csv(), \\t for read_table()\n",
    "\n",
    "delimiter : str, default None\n",
    "\n",
    "delim_whitespace : boolean, default False\n",
    "\n",
    "index_col : int or sequence or False, default None\n",
    "\n",
    "usecols : list-like or callable, default None"
   ]
  },
  {
   "cell_type": "code",
   "execution_count": 6,
   "metadata": {},
   "outputs": [],
   "source": [
    "#Pandas Dataframe basics"
   ]
  },
  {
   "cell_type": "markdown",
   "metadata": {},
   "source": [
    "- Manipulação integrada e alinhamento de dados missing\n",
    "- Flexível para mudançcas de formato e pivoting de conjuntos de dados"
   ]
  },
  {
   "cell_type": "code",
   "execution_count": null,
   "metadata": {},
   "outputs": [],
   "source": [
    "# count\n",
    "# sum\n",
    "# .isnull().count()\n",
    "\n",
    "#dropna\n",
    "#fillna"
   ]
  },
  {
   "cell_type": "markdown",
   "metadata": {},
   "source": [
    "- Formas inteligentes de fatiar o DataFrame de acordo com labels, recursos para indexar e criar subconjuntos\n",
    "- Colunas podem ser inseridas e deletadas\n",
    "- Agregações e transformações de dados com a poderosa group-by engine"
   ]
  },
  {
   "cell_type": "code",
   "execution_count": null,
   "metadata": {},
   "outputs": [],
   "source": [
    "# selection by position and label\n",
    "df.loc['20130102':'20130104', ['A', 'B']]\n",
    "\n",
    "# Boolean Indexing\n",
    "df[df.A > 0]\n",
    "\n",
    "# Setting\n",
    "df['F'] = s1\n",
    "\n",
    "# operations with setting\n",
    "df2[df2 > 0] = -df2\n",
    "\n",
    "#groupby\n",
    "groupby.sum()\n",
    "\n",
    "GroupBy.first(**kwargs)"
   ]
  },
  {
   "cell_type": "markdown",
   "metadata": {},
   "source": [
    "- Alta performance fazendo merges e joins de data sets\n",
    "- Funcionalidades de séries temporais: geração de data ranges, moving window statistics, data shifting, lagging"
   ]
  },
  {
   "cell_type": "code",
   "execution_count": 10,
   "metadata": {},
   "outputs": [],
   "source": [
    "# merge, join, concatenate"
   ]
  },
  {
   "cell_type": "code",
   "execution_count": null,
   "metadata": {},
   "outputs": [],
   "source": [
    "#Time Series / Date functionality"
   ]
  },
  {
   "cell_type": "code",
   "execution_count": null,
   "metadata": {},
   "outputs": [],
   "source": [
    "#dtypes\n",
    "#astype\n",
    "#plot"
   ]
  },
  {
   "cell_type": "markdown",
   "metadata": {},
   "source": [
    "### Comentário: conexão com o banco de dados"
   ]
  },
  {
   "cell_type": "markdown",
   "metadata": {},
   "source": [
    "### Análise Exploratória e Estatísticas basicas"
   ]
  },
  {
   "cell_type": "code",
   "execution_count": null,
   "metadata": {},
   "outputs": [],
   "source": []
  }
 ],
 "metadata": {
  "kernelspec": {
   "display_name": "Python 3",
   "language": "python",
   "name": "python3"
  },
  "language_info": {
   "codemirror_mode": {
    "name": "ipython",
    "version": 3
   },
   "file_extension": ".py",
   "mimetype": "text/x-python",
   "name": "python",
   "nbconvert_exporter": "python",
   "pygments_lexer": "ipython3",
   "version": "3.6.7"
  }
 },
 "nbformat": 4,
 "nbformat_minor": 2
}
