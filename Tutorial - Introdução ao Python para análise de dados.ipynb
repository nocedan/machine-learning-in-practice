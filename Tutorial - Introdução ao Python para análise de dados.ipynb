{
 "cells": [
  {
   "cell_type": "markdown",
   "metadata": {},
   "source": [
    "# Tutorial - Introdução ao Python para análise de dados"
   ]
  },
  {
   "cell_type": "markdown",
   "metadata": {},
   "source": [
    "![python logo](python-logo.png)"
   ]
  },
  {
   "cell_type": "markdown",
   "metadata": {},
   "source": [
    "### Hands on!\n",
    "\n",
    "- A linguagem python\n",
    "- Instalação da distribuição Anaconda\n",
    "- Lição de casa: Codeacademy + recursos online\n",
    "- Hands on com o Pandas: leitura de csv + Dataframe basics\n",
    "- Comentário: conexão com o banco de dados\n",
    "- Análise Exploratória e Estatísticas fundamentais"
   ]
  },
  {
   "cell_type": "markdown",
   "metadata": {},
   "source": [
    "### A linguagem Python\n",
    "\n",
    "- Python é fácil de aprender!\n",
    "- Toda linguagem de programação tem tipos fundamentais, estruturas de dados\n",
    "- Toda linguagem de programação tem: instruções, expressões, operações, funções, módulos, métodos e classes\n",
    "\n",
    "- Aprendizado ativo:\n",
    "https://docs.python.org/3/tutorial/index.html\n",
    "- copiar ajuda, Stackoverflow também\n",
    "- https://stackoverflow.com/ - inglês"
   ]
  },
  {
   "cell_type": "markdown",
   "metadata": {},
   "source": [
    "\"Python is an easy to learn, powerful programming language. It has efficient high-level data structures and a simple but effective approach to object-oriented programming. Python’s elegant syntax and dynamic typing, together with its interpreted nature, make it an ideal language for scripting and rapid application development in many areas on most platforms.\""
   ]
  },
  {
   "cell_type": "code",
   "execution_count": 20,
   "metadata": {},
   "outputs": [
    {
     "data": {
      "text/plain": [
       "True"
      ]
     },
     "execution_count": 20,
     "metadata": {},
     "output_type": "execute_result"
    }
   ],
   "source": [
    "10 < 1000"
   ]
  },
  {
   "cell_type": "code",
   "execution_count": 7,
   "metadata": {},
   "outputs": [
    {
     "data": {
      "text/plain": [
       "True"
      ]
     },
     "execution_count": 7,
     "metadata": {},
     "output_type": "execute_result"
    }
   ],
   "source": [
    "# expressões de comparação\n",
    "nan = float('NaN')\n",
    "nan is nan"
   ]
  },
  {
   "cell_type": "code",
   "execution_count": 8,
   "metadata": {},
   "outputs": [
    {
     "data": {
      "text/plain": [
       "False"
      ]
     },
     "execution_count": 8,
     "metadata": {},
     "output_type": "execute_result"
    }
   ],
   "source": [
    "10 > nan"
   ]
  },
  {
   "cell_type": "code",
   "execution_count": 10,
   "metadata": {},
   "outputs": [
    {
     "data": {
      "text/plain": [
       "True"
      ]
     },
     "execution_count": 10,
     "metadata": {},
     "output_type": "execute_result"
    }
   ],
   "source": [
    "# operações de verificação de pertencimento\n",
    "10 in [10, 20,30]\n",
    "\"He\" not in [\"Vivi\", \"Doug\", \"Maria\"]"
   ]
  },
  {
   "cell_type": "code",
   "execution_count": null,
   "metadata": {},
   "outputs": [],
   "source": [
    "- O que torna o Python diferente?\n",
    "\n",
    "Listas - Coleções de alto nível, criadas para armazenar informações relacionadas\n",
    "for loops\n",
    "# Instruções de filtros e loops que produzem outras listas\n",
    "list compression\n",
    "funções\n",
    "recursão"
   ]
  },
  {
   "cell_type": "code",
   "execution_count": 12,
   "metadata": {},
   "outputs": [
    {
     "data": {
      "text/plain": [
       "3"
      ]
     },
     "execution_count": 12,
     "metadata": {},
     "output_type": "execute_result"
    }
   ],
   "source": [
    "#funções\n",
    "\n",
    "#Built in \n",
    "len([\"Vivi\", \"Doug\", \"Maria\"])"
   ]
  },
  {
   "cell_type": "code",
   "execution_count": 13,
   "metadata": {},
   "outputs": [],
   "source": [
    "def whats_on_the_telly(penguin=None):\n",
    "    if penguin is None:\n",
    "        penguin = []\n",
    "    penguin.append(\"property of the zoo\")\n",
    "    print(penguin)\n",
    "    return penguin"
   ]
  },
  {
   "cell_type": "code",
   "execution_count": 15,
   "metadata": {},
   "outputs": [
    {
     "data": {
      "text/plain": [
       "datetime.datetime(2019, 5, 26, 11, 9, 25, 295476)"
      ]
     },
     "execution_count": 15,
     "metadata": {},
     "output_type": "execute_result"
    }
   ],
   "source": [
    "# modulos\n",
    "\n",
    "import datetime\n",
    "\n",
    "datetime.datetime.now()"
   ]
  },
  {
   "cell_type": "code",
   "execution_count": 18,
   "metadata": {},
   "outputs": [
    {
     "name": "stdout",
     "output_type": "stream",
     "text": [
      "I am a C\n"
     ]
    }
   ],
   "source": [
    "#methods and classes\n",
    "class C:\n",
    "    def my_method(self):\n",
    "        print (\"I am a C\")\n",
    "\n",
    "c = C()\n",
    "c.my_method()  # Prints \"I am a C\""
   ]
  },
  {
   "cell_type": "markdown",
   "metadata": {},
   "source": [
    "### Instalação da distribuição Anaconda\n",
    "\n",
    "Instalar o python, criar ambientes baixar todos os pacotes mais comuns na análise de dados pode ser uma tarefa demorada para iniciantes. Ao invés disso, vamos direto ao ponto, instalando uma distribuição que faz tudo isso de forma simples.\n",
    "\n",
    "Vá para o site https://www.anaconda.com/distribution/ e faça o download em \"Python 3.7 version\""
   ]
  },
  {
   "cell_type": "markdown",
   "metadata": {},
   "source": [
    "### Aprofundando o conhecimento\n",
    "\n",
    "- Lição de casa: Codeacademy, curso de python 2\n",
    "- https://docs.python.org/3/tutorial/index.html"
   ]
  },
  {
   "cell_type": "markdown",
   "metadata": {},
   "source": [
    "### Pandas Hands On!"
   ]
  },
  {
   "cell_type": "markdown",
   "metadata": {},
   "source": [
    "\n",
    "    A fast and efficient DataFrame object for data manipulation with integrated indexing;\n",
    "    Tools for reading and writing data between in-memory data structures and different formats: CSV and text files, Microsoft Excel, SQL databases, and the fast HDF5 format;\n",
    "    Intelligent data alignment and integrated handling of missing data: gain automatic label-based alignment in computations and easily manipulate messy data into an orderly form;\n",
    "    Flexible reshaping and pivoting of data sets;\n",
    "    Intelligent label-based slicing, fancy indexing, and subsetting of large data sets;\n",
    "    Columns can be inserted and deleted from data structures for size mutability;\n",
    "    Aggregating or transforming data with a powerful group by engine allowing split-apply-combine operations on data sets;\n",
    "    High performance merging and joining of data sets;\n",
    "    Hierarchical axis indexing provides an intuitive way of working with high-dimensional data in a lower-dimensional data structure;\n",
    "    Time series-functionality: date range generation and frequency conversion, moving window statistics, moving window linear regressions, date shifting and lagging. Even create domain-specific time offsets and join time series without losing data;\n",
    "    Highly optimized for performance, with critical code paths written in Cython or C.\n",
    "    Python with pandas is in use in a wide variety of academic and commercial domains, including Finance, Neuroscience, Economics, Statistics, Advertising, Web Analytics, and more.\n"
   ]
  },
  {
   "cell_type": "code",
   "execution_count": 23,
   "metadata": {},
   "outputs": [],
   "source": [
    "import pandas as pd"
   ]
  },
  {
   "cell_type": "code",
   "execution_count": 25,
   "metadata": {},
   "outputs": [],
   "source": [
    "#leitura de csv"
   ]
  },
  {
   "cell_type": "code",
   "execution_count": 27,
   "metadata": {},
   "outputs": [],
   "source": [
    "#Pandas Dataframe basics"
   ]
  },
  {
   "cell_type": "code",
   "execution_count": null,
   "metadata": {},
   "outputs": [],
   "source": []
  }
 ],
 "metadata": {
  "kernelspec": {
   "display_name": "Python 3",
   "language": "python",
   "name": "python3"
  },
  "language_info": {
   "codemirror_mode": {
    "name": "ipython",
    "version": 3
   },
   "file_extension": ".py",
   "mimetype": "text/x-python",
   "name": "python",
   "nbconvert_exporter": "python",
   "pygments_lexer": "ipython3",
   "version": "3.6.7"
  }
 },
 "nbformat": 4,
 "nbformat_minor": 2
}
