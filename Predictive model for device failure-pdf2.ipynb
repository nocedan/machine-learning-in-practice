{
 "cells": [
  {
   "cell_type": "markdown",
   "metadata": {},
   "source": [
    "# Reduce maintenance cost through predictive techniques\n",
    "\n",
    "Author: Daniel Noce da Silva\n",
    "\n",
    "In this notebook, it is developed a device failure predictive model.\n",
    "\n",
    "###  Goals\n",
    "\n",
    "- To build a predictive model in order to estimate **probability of device failure**, given the daily aggregated telemetry data.\n",
    "- Minimize **false positives** and **false negatives** in dev set (test set) predictions\n",
    "\n",
    "### Notebook summary:\n",
    "\n",
    "#### Data exploration and modelling insights:\n",
    "\n",
    "    - Importing data\n",
    "    - General statistics\n",
    "    - Visualizing failures over time\n",
    "    - Sequence length analisys\n",
    "    - Addressing gaps in sequence data\n",
    "    - Attributes' distributions\n",
    "    \n",
    "\n",
    "#### Predictive Modelling\n",
    "\n",
    "    - Data prep\n",
    "    - Modelling helper functions\n",
    "    - Random generation of hyperparameter sets and model selection\n",
    "    - Selecting the model with highest F1-Score at dev set\n",
    "    - Performance at the validation set\n",
    "\n",
    "#### Appendix 1 : Cost reduction"
   ]
  },
  {
   "cell_type": "markdown",
   "metadata": {},
   "source": [
    "## Data Exploration and Modelling Insights\n",
    "\n",
    "### Importing data"
   ]
  },
  {
   "cell_type": "code",
   "execution_count": 1,
   "metadata": {},
   "outputs": [],
   "source": [
    "# dataset manipulation and visualization\n",
    "import numpy as np\n",
    "import pandas as pd\n",
    "import matplotlib\n",
    "import matplotlib.pyplot as plt\n",
    "%matplotlib inline\n",
    "import seaborn as sns\n",
    "sns.set_style(\"whitegrid\")\n",
    "\n",
    "# modelling and diagnostics\n",
    "import tensorflow as tf\n",
    "from tensorflow.keras.models import Sequential\n",
    "from tensorflow.keras.layers import Dense, Dropout\n",
    "from tensorflow.keras.layers import Embedding\n",
    "from tensorflow.keras.layers import LSTM, GRU\n",
    "from tensorflow.keras import regularizers\n",
    "from tensorflow.keras.optimizers import Adam\n",
    "from sklearn.metrics import f1_score, precision_score, recall_score,\\\n",
    "precision_recall_fscore_support, confusion_matrix\n",
    "from tensorflow.keras.preprocessing.sequence import pad_sequences"
   ]
  },
  {
   "cell_type": "code",
   "execution_count": 2,
   "metadata": {},
   "outputs": [],
   "source": [
    "# In order to improve pdf readability\n",
    "import pprint\n",
    "\n",
    "pp = pprint.PrettyPrinter(indent=0)\n",
    "pprint = pp.pprint"
   ]
  },
  {
   "cell_type": "markdown",
   "metadata": {},
   "source": [
    "In order to apply calculations to the **'date'** column, we create a datetime variable **'datenum'**."
   ]
  },
  {
   "cell_type": "code",
   "execution_count": 3,
   "metadata": {},
   "outputs": [],
   "source": [
    "# using latin1  - data do not conform to utf-8\n",
    "df = pd.read_csv('device_failure.csv', encoding='latin1')\n",
    "\n",
    "# converting dates to a more suitable format\n",
    "df['datenum'] = pd.to_datetime(df.date, format='%Y-%m-%d')\n",
    "df.drop('date', inplace = True, axis=1)"
   ]
  },
  {
   "cell_type": "code",
   "execution_count": 4,
   "metadata": {},
   "outputs": [
    {
     "data": {
      "text/html": [
       "<div>\n",
       "<style scoped>\n",
       "    .dataframe tbody tr th:only-of-type {\n",
       "        vertical-align: middle;\n",
       "    }\n",
       "\n",
       "    .dataframe tbody tr th {\n",
       "        vertical-align: top;\n",
       "    }\n",
       "\n",
       "    .dataframe thead th {\n",
       "        text-align: right;\n",
       "    }\n",
       "</style>\n",
       "<table border=\"1\" class=\"dataframe\">\n",
       "  <thead>\n",
       "    <tr style=\"text-align: right;\">\n",
       "      <th></th>\n",
       "      <th>device</th>\n",
       "      <th>failure</th>\n",
       "      <th>attribute1</th>\n",
       "      <th>attribute2</th>\n",
       "      <th>attribute3</th>\n",
       "      <th>attribute4</th>\n",
       "      <th>attribute5</th>\n",
       "      <th>attribute6</th>\n",
       "      <th>attribute7</th>\n",
       "      <th>attribute8</th>\n",
       "      <th>attribute9</th>\n",
       "      <th>datenum</th>\n",
       "    </tr>\n",
       "  </thead>\n",
       "  <tbody>\n",
       "    <tr>\n",
       "      <th>0</th>\n",
       "      <td>S1F01085</td>\n",
       "      <td>0</td>\n",
       "      <td>215630672</td>\n",
       "      <td>56</td>\n",
       "      <td>0</td>\n",
       "      <td>52</td>\n",
       "      <td>6</td>\n",
       "      <td>407438</td>\n",
       "      <td>0</td>\n",
       "      <td>0</td>\n",
       "      <td>7</td>\n",
       "      <td>2015-01-01</td>\n",
       "    </tr>\n",
       "    <tr>\n",
       "      <th>1</th>\n",
       "      <td>S1F0166B</td>\n",
       "      <td>0</td>\n",
       "      <td>61370680</td>\n",
       "      <td>0</td>\n",
       "      <td>3</td>\n",
       "      <td>0</td>\n",
       "      <td>6</td>\n",
       "      <td>403174</td>\n",
       "      <td>0</td>\n",
       "      <td>0</td>\n",
       "      <td>0</td>\n",
       "      <td>2015-01-01</td>\n",
       "    </tr>\n",
       "    <tr>\n",
       "      <th>2</th>\n",
       "      <td>S1F01E6Y</td>\n",
       "      <td>0</td>\n",
       "      <td>173295968</td>\n",
       "      <td>0</td>\n",
       "      <td>0</td>\n",
       "      <td>0</td>\n",
       "      <td>12</td>\n",
       "      <td>237394</td>\n",
       "      <td>0</td>\n",
       "      <td>0</td>\n",
       "      <td>0</td>\n",
       "      <td>2015-01-01</td>\n",
       "    </tr>\n",
       "    <tr>\n",
       "      <th>3</th>\n",
       "      <td>S1F01JE0</td>\n",
       "      <td>0</td>\n",
       "      <td>79694024</td>\n",
       "      <td>0</td>\n",
       "      <td>0</td>\n",
       "      <td>0</td>\n",
       "      <td>6</td>\n",
       "      <td>410186</td>\n",
       "      <td>0</td>\n",
       "      <td>0</td>\n",
       "      <td>0</td>\n",
       "      <td>2015-01-01</td>\n",
       "    </tr>\n",
       "    <tr>\n",
       "      <th>4</th>\n",
       "      <td>S1F01R2B</td>\n",
       "      <td>0</td>\n",
       "      <td>135970480</td>\n",
       "      <td>0</td>\n",
       "      <td>0</td>\n",
       "      <td>0</td>\n",
       "      <td>15</td>\n",
       "      <td>313173</td>\n",
       "      <td>0</td>\n",
       "      <td>0</td>\n",
       "      <td>3</td>\n",
       "      <td>2015-01-01</td>\n",
       "    </tr>\n",
       "  </tbody>\n",
       "</table>\n",
       "</div>"
      ],
      "text/plain": [
       "     device  failure  attribute1  attribute2  attribute3  attribute4  \\\n",
       "0  S1F01085        0   215630672          56           0          52   \n",
       "1  S1F0166B        0    61370680           0           3           0   \n",
       "2  S1F01E6Y        0   173295968           0           0           0   \n",
       "3  S1F01JE0        0    79694024           0           0           0   \n",
       "4  S1F01R2B        0   135970480           0           0           0   \n",
       "\n",
       "   attribute5  attribute6  attribute7  attribute8  attribute9    datenum  \n",
       "0           6      407438           0           0           7 2015-01-01  \n",
       "1           6      403174           0           0           0 2015-01-01  \n",
       "2          12      237394           0           0           0 2015-01-01  \n",
       "3           6      410186           0           0           0 2015-01-01  \n",
       "4          15      313173           0           0           3 2015-01-01  "
      ]
     },
     "execution_count": 4,
     "metadata": {},
     "output_type": "execute_result"
    }
   ],
   "source": [
    "# data sample\n",
    "df.head()"
   ]
  },
  {
   "cell_type": "code",
   "execution_count": 5,
   "metadata": {},
   "outputs": [
    {
     "data": {
      "text/html": [
       "<div>\n",
       "<style scoped>\n",
       "    .dataframe tbody tr th:only-of-type {\n",
       "        vertical-align: middle;\n",
       "    }\n",
       "\n",
       "    .dataframe tbody tr th {\n",
       "        vertical-align: top;\n",
       "    }\n",
       "\n",
       "    .dataframe thead th {\n",
       "        text-align: right;\n",
       "    }\n",
       "</style>\n",
       "<table border=\"1\" class=\"dataframe\">\n",
       "  <thead>\n",
       "    <tr style=\"text-align: right;\">\n",
       "      <th></th>\n",
       "      <th>device</th>\n",
       "      <th>failure</th>\n",
       "      <th>attribute1</th>\n",
       "      <th>attribute2</th>\n",
       "      <th>attribute3</th>\n",
       "      <th>attribute4</th>\n",
       "      <th>attribute5</th>\n",
       "      <th>attribute6</th>\n",
       "      <th>attribute7</th>\n",
       "      <th>attribute8</th>\n",
       "      <th>attribute9</th>\n",
       "      <th>datenum</th>\n",
       "    </tr>\n",
       "  </thead>\n",
       "  <tbody>\n",
       "    <tr>\n",
       "      <th>101334</th>\n",
       "      <td>S1F0R4Q8</td>\n",
       "      <td>0</td>\n",
       "      <td>192721392</td>\n",
       "      <td>0</td>\n",
       "      <td>0</td>\n",
       "      <td>0</td>\n",
       "      <td>8</td>\n",
       "      <td>213700</td>\n",
       "      <td>0</td>\n",
       "      <td>0</td>\n",
       "      <td>0</td>\n",
       "      <td>2015-07-10</td>\n",
       "    </tr>\n",
       "    <tr>\n",
       "      <th>101335</th>\n",
       "      <td>S1F0R4Q8</td>\n",
       "      <td>0</td>\n",
       "      <td>192721392</td>\n",
       "      <td>0</td>\n",
       "      <td>0</td>\n",
       "      <td>0</td>\n",
       "      <td>8</td>\n",
       "      <td>213700</td>\n",
       "      <td>0</td>\n",
       "      <td>0</td>\n",
       "      <td>0</td>\n",
       "      <td>2015-07-10</td>\n",
       "    </tr>\n",
       "  </tbody>\n",
       "</table>\n",
       "</div>"
      ],
      "text/plain": [
       "          device  failure  attribute1  attribute2  attribute3  attribute4  \\\n",
       "101334  S1F0R4Q8        0   192721392           0           0           0   \n",
       "101335  S1F0R4Q8        0   192721392           0           0           0   \n",
       "\n",
       "        attribute5  attribute6  attribute7  attribute8  attribute9    datenum  \n",
       "101334           8      213700           0           0           0 2015-07-10  \n",
       "101335           8      213700           0           0           0 2015-07-10  "
      ]
     },
     "execution_count": 5,
     "metadata": {},
     "output_type": "execute_result"
    }
   ],
   "source": [
    "# There is one device-date pair with duplicated data\n",
    "t1 = df.groupby(['device','datenum']).failure.count()\n",
    "t1[t1>1]\n",
    "\n",
    "df.query(\"device == 'S1F0R4Q8' and datenum == '2015-07-10'\")"
   ]
  },
  {
   "cell_type": "code",
   "execution_count": 6,
   "metadata": {},
   "outputs": [],
   "source": [
    "#remove duplicate\n",
    "df.drop_duplicates(subset=None, keep='first', inplace=True)"
   ]
  },
  {
   "cell_type": "code",
   "execution_count": 7,
   "metadata": {},
   "outputs": [
    {
     "name": "stdout",
     "output_type": "stream",
     "text": [
      "<class 'pandas.core.frame.DataFrame'>\n",
      "Int64Index: 124493 entries, 0 to 124493\n",
      "Data columns (total 12 columns):\n",
      "device        124493 non-null object\n",
      "failure       124493 non-null int64\n",
      "attribute1    124493 non-null int64\n",
      "attribute2    124493 non-null int64\n",
      "attribute3    124493 non-null int64\n",
      "attribute4    124493 non-null int64\n",
      "attribute5    124493 non-null int64\n",
      "attribute6    124493 non-null int64\n",
      "attribute7    124493 non-null int64\n",
      "attribute8    124493 non-null int64\n",
      "attribute9    124493 non-null int64\n",
      "datenum       124493 non-null datetime64[ns]\n",
      "dtypes: datetime64[ns](1), int64(10), object(1)\n",
      "memory usage: 12.3+ MB\n",
      "None\n"
     ]
    }
   ],
   "source": [
    "# checking column dtypes and info\n",
    "print(df.info())"
   ]
  },
  {
   "cell_type": "code",
   "execution_count": 8,
   "metadata": {},
   "outputs": [
    {
     "data": {
      "text/plain": [
       "device        0\n",
       "failure       0\n",
       "attribute1    0\n",
       "attribute2    0\n",
       "attribute3    0\n",
       "attribute4    0\n",
       "attribute5    0\n",
       "attribute6    0\n",
       "attribute7    0\n",
       "attribute8    0\n",
       "attribute9    0\n",
       "datenum       0\n",
       "dtype: int64"
      ]
     },
     "execution_count": 8,
     "metadata": {},
     "output_type": "execute_result"
    }
   ],
   "source": [
    "# no missing data was found\n",
    "df.isnull().sum()"
   ]
  },
  {
   "cell_type": "markdown",
   "metadata": {},
   "source": [
    "### General statistics\n",
    "\n",
    "The following code helps us to get an overview of the dataset content:\n",
    "    \n",
    "- The **number of devices** is **1169**\n",
    "- The **maximum failures per device** observed in the dataset is: **1**\n",
    "- The number of **devices with history of failure** is **106**\n",
    "- The **percentage** of equipaments with history of failure is **9.1**"
   ]
  },
  {
   "cell_type": "code",
   "execution_count": 9,
   "metadata": {},
   "outputs": [
    {
     "name": "stdout",
     "output_type": "stream",
     "text": [
      "The number of devices is 1169\n",
      "The maximum failures per device observed in the dataset is: 1\n",
      "The number of equipaments with history of failure is 106\n",
      "The percentage of equipaments with history of failure is 9.1\n"
     ]
    }
   ],
   "source": [
    "# general statistics\n",
    "num_dev = np.unique(df.device).shape[0]\n",
    "print('The number of devices is %d'%num_dev)\n",
    "\n",
    "# There is no observation of two failures for the same device\n",
    "df_failure = df[df.failure==1].copy()\n",
    "failures_per_device = df_failure.groupby('device').failure.sum().max()\n",
    "print(\n",
    "    'The maximum failures per device observed in the dataset is: %d'\n",
    "    %failures_per_device)\n",
    "\n",
    "num_f = df_failure.groupby('device').failure.count().count()\n",
    "print('The number of equipaments with history of failure is %d'%(num_f,))\n",
    "\n",
    "pct_f = df.failure.sum()/len(np.unique(df.device.values))\n",
    "print('The percentage of equipaments with history of failure is %.1f'%(pct_f*100,))"
   ]
  },
  {
   "cell_type": "markdown",
   "metadata": {},
   "source": [
    "### Visualizing failures over time\n",
    "\n",
    "Over time, the frequency of failures per device in the dataset is slowing down. Also, it is possible to see that multiple failures in one day or in a sequence of days are not uncommon."
   ]
  },
  {
   "cell_type": "code",
   "execution_count": 11,
   "metadata": {},
   "outputs": [
    {
     "data": {
      "image/png": "[encoded data removed]",
      "text/plain": [
       "<Figure size 1080x504 with 1 Axes>"
      ]
     },
     "metadata": {
      "needs_background": "light"
     },
     "output_type": "display_data"
    }
   ],
   "source": [
    "fig = plt.figure(figsize=(15,7))\n",
    "\n",
    "# percentage of failures per device through time\n",
    "failure_pct = df.groupby('datenum').failure.sum()/df.groupby('datenum').failure.count()\n",
    "sns.lineplot(data=failure_pct)\n",
    "fig.suptitle('Failures per device over time', fontsize=20)\n",
    "plt.show()"
   ]
  },
  {
   "cell_type": "markdown",
   "metadata": {},
   "source": [
    "The distribution of failure quantity (below) shows that 20% of days with failure have two or more devices failing.\n",
    "\n",
    "Hence, there is a possibility that a net effect of past days failures of other equipment may influence the probability of failure for a device. Later we will add a new feature that is the absolute number of failures up to d-1. This feature can handle possible interactions between devices (to be tested on model)."
   ]
  },
  {
   "cell_type": "code",
   "execution_count": 12,
   "metadata": {},
   "outputs": [
    {
     "data": {
      "text/plain": [
       "count    76.000000\n",
       "mean      1.394737\n",
       "std       0.924899\n",
       "min       1.000000\n",
       "50%       1.000000\n",
       "80%       2.000000\n",
       "90%       2.000000\n",
       "95%       2.000000\n",
       "max       8.000000\n",
       "Name: failure, dtype: float64"
      ]
     },
     "execution_count": 12,
     "metadata": {},
     "output_type": "execute_result"
    }
   ],
   "source": [
    "failure_count = df.groupby('datenum').failure.sum()\n",
    "# selecting only days with device failures\n",
    "failure_count = failure_count[failure_count>0]\n",
    "failure_count.describe(percentiles=[.8, .9, .95])"
   ]
  },
  {
   "cell_type": "markdown",
   "metadata": {},
   "source": [
    "### Sequence length analysis\n",
    "\n",
    "This is a dataset of sequence data, which suggests that the proper modelling tools for this case are RNN's. To do so, we need to know more about the sequence length for each device. If we disregard sequences that have gaps, for now, we have an approx. distribution of lengths in the following figure: "
   ]
  },
  {
   "cell_type": "code",
   "execution_count": 14,
   "metadata": {
    "scrolled": true
   },
   "outputs": [
    {
     "data": {
      "image/png": "[encoded data removed]",
      "text/plain": [
       "<Figure size 720x360 with 1 Axes>"
      ]
     },
     "metadata": {
      "needs_background": "light"
     },
     "output_type": "display_data"
    }
   ],
   "source": [
    "# absolute number of timestamps per device\n",
    "timestamps_per_device = df.groupby('device').datenum.count()\n",
    "fig = plt.figure(figsize=(10,5))\n",
    "ax = sns.distplot(timestamps_per_device.values, kde=False)\n",
    "fig.suptitle('Timestamps per device histogram', fontsize=20)\n",
    "plt.show()"
   ]
  },
  {
   "cell_type": "markdown",
   "metadata": {},
   "source": [
    "The median of timestamps is 84. And there is a significative number of devices with 6 or less timestamps."
   ]
  },
  {
   "cell_type": "code",
   "execution_count": 15,
   "metadata": {},
   "outputs": [
    {
     "data": {
      "text/plain": [
       "count    1169.000000\n",
       "mean      106.495295\n",
       "std       102.651359\n",
       "min         1.000000\n",
       "25%         6.000000\n",
       "50%        84.000000\n",
       "75%       224.000000\n",
       "max       304.000000\n",
       "Name: datenum, dtype: float64"
      ]
     },
     "execution_count": 15,
     "metadata": {},
     "output_type": "execute_result"
    }
   ],
   "source": [
    "timestamps_per_device.describe()"
   ]
  },
  {
   "cell_type": "markdown",
   "metadata": {},
   "source": [
    "Here , one example of device data that appears for six days in January"
   ]
  },
  {
   "cell_type": "code",
   "execution_count": 16,
   "metadata": {},
   "outputs": [
    {
     "data": {
      "text/html": [
       "<div>\n",
       "<style scoped>\n",
       "    .dataframe tbody tr th:only-of-type {\n",
       "        vertical-align: middle;\n",
       "    }\n",
       "\n",
       "    .dataframe tbody tr th {\n",
       "        vertical-align: top;\n",
       "    }\n",
       "\n",
       "    .dataframe thead th {\n",
       "        text-align: right;\n",
       "    }\n",
       "</style>\n",
       "<table border=\"1\" class=\"dataframe\">\n",
       "  <thead>\n",
       "    <tr style=\"text-align: right;\">\n",
       "      <th></th>\n",
       "      <th>device</th>\n",
       "      <th>failure</th>\n",
       "      <th>attribute1</th>\n",
       "      <th>attribute2</th>\n",
       "      <th>attribute3</th>\n",
       "      <th>attribute4</th>\n",
       "      <th>attribute5</th>\n",
       "      <th>attribute6</th>\n",
       "      <th>attribute7</th>\n",
       "      <th>attribute8</th>\n",
       "      <th>attribute9</th>\n",
       "      <th>datenum</th>\n",
       "    </tr>\n",
       "  </thead>\n",
       "  <tbody>\n",
       "    <tr>\n",
       "      <th>14</th>\n",
       "      <td>S1F02VAX</td>\n",
       "      <td>0</td>\n",
       "      <td>61019512</td>\n",
       "      <td>168</td>\n",
       "      <td>2</td>\n",
       "      <td>521</td>\n",
       "      <td>3</td>\n",
       "      <td>380496</td>\n",
       "      <td>0</td>\n",
       "      <td>0</td>\n",
       "      <td>3</td>\n",
       "      <td>2015-01-01</td>\n",
       "    </tr>\n",
       "    <tr>\n",
       "      <th>1177</th>\n",
       "      <td>S1F02VAX</td>\n",
       "      <td>0</td>\n",
       "      <td>111341488</td>\n",
       "      <td>168</td>\n",
       "      <td>2</td>\n",
       "      <td>521</td>\n",
       "      <td>3</td>\n",
       "      <td>380496</td>\n",
       "      <td>0</td>\n",
       "      <td>0</td>\n",
       "      <td>3</td>\n",
       "      <td>2015-01-02</td>\n",
       "    </tr>\n",
       "    <tr>\n",
       "      <th>2340</th>\n",
       "      <td>S1F02VAX</td>\n",
       "      <td>0</td>\n",
       "      <td>167108304</td>\n",
       "      <td>168</td>\n",
       "      <td>2</td>\n",
       "      <td>521</td>\n",
       "      <td>3</td>\n",
       "      <td>380496</td>\n",
       "      <td>0</td>\n",
       "      <td>0</td>\n",
       "      <td>3</td>\n",
       "      <td>2015-01-03</td>\n",
       "    </tr>\n",
       "    <tr>\n",
       "      <th>3503</th>\n",
       "      <td>S1F02VAX</td>\n",
       "      <td>0</td>\n",
       "      <td>122926824</td>\n",
       "      <td>168</td>\n",
       "      <td>2</td>\n",
       "      <td>521</td>\n",
       "      <td>3</td>\n",
       "      <td>380660</td>\n",
       "      <td>0</td>\n",
       "      <td>0</td>\n",
       "      <td>3</td>\n",
       "      <td>2015-01-04</td>\n",
       "    </tr>\n",
       "    <tr>\n",
       "      <th>4665</th>\n",
       "      <td>S1F02VAX</td>\n",
       "      <td>0</td>\n",
       "      <td>142917800</td>\n",
       "      <td>168</td>\n",
       "      <td>2</td>\n",
       "      <td>521</td>\n",
       "      <td>3</td>\n",
       "      <td>381832</td>\n",
       "      <td>0</td>\n",
       "      <td>0</td>\n",
       "      <td>3</td>\n",
       "      <td>2015-01-05</td>\n",
       "    </tr>\n",
       "    <tr>\n",
       "      <th>5826</th>\n",
       "      <td>S1F02VAX</td>\n",
       "      <td>0</td>\n",
       "      <td>172600768</td>\n",
       "      <td>168</td>\n",
       "      <td>2</td>\n",
       "      <td>521</td>\n",
       "      <td>3</td>\n",
       "      <td>382898</td>\n",
       "      <td>0</td>\n",
       "      <td>0</td>\n",
       "      <td>3</td>\n",
       "      <td>2015-01-06</td>\n",
       "    </tr>\n",
       "  </tbody>\n",
       "</table>\n",
       "</div>"
      ],
      "text/plain": [
       "        device  failure  attribute1  attribute2  attribute3  attribute4  \\\n",
       "14    S1F02VAX        0    61019512         168           2         521   \n",
       "1177  S1F02VAX        0   111341488         168           2         521   \n",
       "2340  S1F02VAX        0   167108304         168           2         521   \n",
       "3503  S1F02VAX        0   122926824         168           2         521   \n",
       "4665  S1F02VAX        0   142917800         168           2         521   \n",
       "5826  S1F02VAX        0   172600768         168           2         521   \n",
       "\n",
       "      attribute5  attribute6  attribute7  attribute8  attribute9    datenum  \n",
       "14             3      380496           0           0           3 2015-01-01  \n",
       "1177           3      380496           0           0           3 2015-01-02  \n",
       "2340           3      380496           0           0           3 2015-01-03  \n",
       "3503           3      380660           0           0           3 2015-01-04  \n",
       "4665           3      381832           0           0           3 2015-01-05  \n",
       "5826           3      382898           0           0           3 2015-01-06  "
      ]
     },
     "execution_count": 16,
     "metadata": {},
     "output_type": "execute_result"
    }
   ],
   "source": [
    "df[df.device == 'S1F02VAX']"
   ]
  },
  {
   "cell_type": "markdown",
   "metadata": {},
   "source": [
    "### Addressing gaps in sequence data\n",
    "\n",
    "In the following, we verify that there is significative time gaps in sequence data for several devices. Then, we separate sequences for each device, in order to model these sequences as independent examples.\n",
    "\n",
    "The number of devices is originally 1169. After sequence separation for devices with gaps in time sequece, we increase the number of examples to 1389."
   ]
  },
  {
   "cell_type": "code",
   "execution_count": 17,
   "metadata": {},
   "outputs": [
    {
     "name": "stdout",
     "output_type": "stream",
     "text": [
      "The number of devices with gaps in sequence data:\n",
      "173 with mean value of approx. 40 days in a gap\n"
     ]
    }
   ],
   "source": [
    "# This code verfy how many devices have gaps in sequence data\n",
    "\n",
    "# for every device, verify if there are gaps in sequence data\n",
    "df.sort_values(by=['device','datenum'], inplace=True)\n",
    "\n",
    "devices_with_gaps = list()\n",
    "gap_per_device = list()\n",
    "for device in np.unique(df.device.values):\n",
    "    \n",
    "    #select determined device data\n",
    "    df_device = df[df.device == device].copy()\n",
    "    \n",
    "    #calculate days between timestamps\n",
    "    timestamp_diff = df_device.datenum.diff()\n",
    "    diff = timestamp_diff.dt.days # days in integer\n",
    "    \n",
    "    # if diff > 1 there is a gap\n",
    "    max_ = diff.max()\n",
    "    if max_ > 1:\n",
    "        devices_with_gaps.append(device)\n",
    "        gap_per_device.append(max_)\n",
    "        \n",
    "\n",
    "print('''The number of devices with gaps in sequence data:\n",
    "%d with mean value of approx. %.0f days in a gap'''\n",
    "      %(len(devices_with_gaps), np.mean(gap_per_device)))"
   ]
  },
  {
   "cell_type": "markdown",
   "metadata": {},
   "source": [
    "All data with gaps should be divided in separate sequences. The following code separates each device data into a small dataframe and then calculates differences in days between ordered timestamps."
   ]
  },
  {
   "cell_type": "code",
   "execution_count": 18,
   "metadata": {},
   "outputs": [],
   "source": [
    "df_list = []\n",
    "for device in np.unique(df.device):\n",
    "   \n",
    "    #select determined device data\n",
    "    df_device = df[df.device == device].copy()\n",
    "    \n",
    "    #calculate days between timestamps\n",
    "    timestamp_diff = df_device.datenum.diff()\n",
    "    df_device['diff'] = timestamp_diff.dt.days # days in integer\n",
    "    \n",
    "    # keep it \n",
    "    df_list.append(df_device)\n",
    "    \n",
    "df = pd.concat(df_list, axis = 0)\n",
    "df['diff'].fillna(0, inplace = True)\n",
    "num_devices = len(np.unique(df.device))"
   ]
  },
  {
   "cell_type": "code",
   "execution_count": 19,
   "metadata": {},
   "outputs": [
    {
     "data": {
      "text/html": [
       "<div>\n",
       "<style scoped>\n",
       "    .dataframe tbody tr th:only-of-type {\n",
       "        vertical-align: middle;\n",
       "    }\n",
       "\n",
       "    .dataframe tbody tr th {\n",
       "        vertical-align: top;\n",
       "    }\n",
       "\n",
       "    .dataframe thead th {\n",
       "        text-align: right;\n",
       "    }\n",
       "</style>\n",
       "<table border=\"1\" class=\"dataframe\">\n",
       "  <thead>\n",
       "    <tr style=\"text-align: right;\">\n",
       "      <th></th>\n",
       "      <th>device</th>\n",
       "      <th>failure</th>\n",
       "      <th>attribute1</th>\n",
       "      <th>attribute2</th>\n",
       "      <th>attribute3</th>\n",
       "      <th>attribute4</th>\n",
       "      <th>attribute5</th>\n",
       "      <th>attribute6</th>\n",
       "      <th>attribute7</th>\n",
       "      <th>attribute8</th>\n",
       "      <th>attribute9</th>\n",
       "      <th>datenum</th>\n",
       "      <th>diff</th>\n",
       "    </tr>\n",
       "  </thead>\n",
       "  <tbody>\n",
       "    <tr>\n",
       "      <th>0</th>\n",
       "      <td>S1F01085</td>\n",
       "      <td>0</td>\n",
       "      <td>215630672</td>\n",
       "      <td>56</td>\n",
       "      <td>0</td>\n",
       "      <td>52</td>\n",
       "      <td>6</td>\n",
       "      <td>407438</td>\n",
       "      <td>0</td>\n",
       "      <td>0</td>\n",
       "      <td>7</td>\n",
       "      <td>2015-01-01</td>\n",
       "      <td>0.0</td>\n",
       "    </tr>\n",
       "    <tr>\n",
       "      <th>1163</th>\n",
       "      <td>S1F01085</td>\n",
       "      <td>0</td>\n",
       "      <td>1650864</td>\n",
       "      <td>56</td>\n",
       "      <td>0</td>\n",
       "      <td>52</td>\n",
       "      <td>6</td>\n",
       "      <td>407438</td>\n",
       "      <td>0</td>\n",
       "      <td>0</td>\n",
       "      <td>7</td>\n",
       "      <td>2015-01-02</td>\n",
       "      <td>1.0</td>\n",
       "    </tr>\n",
       "    <tr>\n",
       "      <th>2326</th>\n",
       "      <td>S1F01085</td>\n",
       "      <td>0</td>\n",
       "      <td>124017368</td>\n",
       "      <td>56</td>\n",
       "      <td>0</td>\n",
       "      <td>52</td>\n",
       "      <td>6</td>\n",
       "      <td>407438</td>\n",
       "      <td>0</td>\n",
       "      <td>0</td>\n",
       "      <td>7</td>\n",
       "      <td>2015-01-03</td>\n",
       "      <td>1.0</td>\n",
       "    </tr>\n",
       "    <tr>\n",
       "      <th>3489</th>\n",
       "      <td>S1F01085</td>\n",
       "      <td>0</td>\n",
       "      <td>128073224</td>\n",
       "      <td>56</td>\n",
       "      <td>0</td>\n",
       "      <td>52</td>\n",
       "      <td>6</td>\n",
       "      <td>407439</td>\n",
       "      <td>0</td>\n",
       "      <td>0</td>\n",
       "      <td>7</td>\n",
       "      <td>2015-01-04</td>\n",
       "      <td>1.0</td>\n",
       "    </tr>\n",
       "    <tr>\n",
       "      <th>4651</th>\n",
       "      <td>S1F01085</td>\n",
       "      <td>0</td>\n",
       "      <td>97393448</td>\n",
       "      <td>56</td>\n",
       "      <td>0</td>\n",
       "      <td>52</td>\n",
       "      <td>6</td>\n",
       "      <td>408114</td>\n",
       "      <td>0</td>\n",
       "      <td>0</td>\n",
       "      <td>7</td>\n",
       "      <td>2015-01-05</td>\n",
       "      <td>1.0</td>\n",
       "    </tr>\n",
       "  </tbody>\n",
       "</table>\n",
       "</div>"
      ],
      "text/plain": [
       "        device  failure  attribute1  attribute2  attribute3  attribute4  \\\n",
       "0     S1F01085        0   215630672          56           0          52   \n",
       "1163  S1F01085        0     1650864          56           0          52   \n",
       "2326  S1F01085        0   124017368          56           0          52   \n",
       "3489  S1F01085        0   128073224          56           0          52   \n",
       "4651  S1F01085        0    97393448          56           0          52   \n",
       "\n",
       "      attribute5  attribute6  attribute7  attribute8  attribute9    datenum  \\\n",
       "0              6      407438           0           0           7 2015-01-01   \n",
       "1163           6      407438           0           0           7 2015-01-02   \n",
       "2326           6      407438           0           0           7 2015-01-03   \n",
       "3489           6      407439           0           0           7 2015-01-04   \n",
       "4651           6      408114           0           0           7 2015-01-05   \n",
       "\n",
       "      diff  \n",
       "0      0.0  \n",
       "1163   1.0  \n",
       "2326   1.0  \n",
       "3489   1.0  \n",
       "4651   1.0  "
      ]
     },
     "execution_count": 19,
     "metadata": {},
     "output_type": "execute_result"
    }
   ],
   "source": [
    "#check the new column diff\n",
    "df.head()"
   ]
  },
  {
   "cell_type": "markdown",
   "metadata": {},
   "source": [
    "Then iterates over all data, writing a new suffix in the device id in order to separate sequences."
   ]
  },
  {
   "cell_type": "code",
   "execution_count": 20,
   "metadata": {},
   "outputs": [],
   "source": [
    "# counts the number of gaps found\n",
    "global_cumsum = 0\n",
    "# current device name\n",
    "curr_device = ''\n",
    "\n",
    "#iterates over all devices separating sequences changing device id\n",
    "for row in df.iterrows():\n",
    "    \n",
    "    # first row per device\n",
    "    if row[1]['diff'] == 0:\n",
    "        curr_device = row[1]['device']\n",
    "        cumsum_device = 0\n",
    "        \n",
    "    # if updates device id\n",
    "    if curr_device != row[1]['device']:\n",
    "        df.loc[row[0], 'device'] = curr_device\n",
    "        \n",
    "    # identify gaps and adds sufix to device id\n",
    "    if row[1]['diff']>1:\n",
    "        cumsum_device +=1\n",
    "        global_cumsum +=1\n",
    "        new_device = row[1]['device']+\"_\"+str(cumsum_device)\n",
    "        df.loc[row[0], 'device']  = new_device\n",
    "        curr_device = new_device"
   ]
  },
  {
   "cell_type": "code",
   "execution_count": 21,
   "metadata": {},
   "outputs": [
    {
     "name": "stdout",
     "output_type": "stream",
     "text": [
      "The new number of examples (device sequences) is 1389\n"
     ]
    }
   ],
   "source": [
    "new_num_devices = len(np.unique(df.device)) \n",
    "print('The new number of examples (device sequences) is %d'%new_num_devices)\n",
    "\n",
    "# checking the increase at the number of devices\n",
    "assert(global_cumsum == new_num_devices - num_devices)"
   ]
  },
  {
   "cell_type": "markdown",
   "metadata": {},
   "source": [
    "### Attributes' distributions\n",
    "\n",
    "The attributes' distributions indicate different ranges per attribute and also a significative presence of outliers. The presence of outliers suggests the use of min_max scaler, because with standard scaling we would end up with different data ranges per attribute."
   ]
  },
  {
   "cell_type": "code",
   "execution_count": 22,
   "metadata": {},
   "outputs": [
    {
     "data": {
      "image/png": "[encoded data removed]",
      "text/plain": [
       "<Figure size 1080x1080 with 9 Axes>"
      ]
     },
     "metadata": {
      "needs_background": "light"
     },
     "output_type": "display_data"
    }
   ],
   "source": [
    "var_list = list()\n",
    "for i in range(1,10):\n",
    "    var_list.append('attribute'+str(i))\n",
    "\n",
    "# let's see distributions\n",
    "n_plots = len(df.columns)\n",
    "\n",
    "fig, ax = plt.subplots(figsize=(15, 15))\n",
    "for column in enumerate(var_list):\n",
    "    plt.subplot(n_plots,1,1+column[0])\n",
    "    plt.ylabel(column[1])\n",
    "    sns.boxplot(data=df[column[1]],orient=\"h\")\n",
    "plt.show()"
   ]
  },
  {
   "cell_type": "markdown",
   "metadata": {},
   "source": [
    "## Predictive Modelling"
   ]
  },
  {
   "cell_type": "markdown",
   "metadata": {},
   "source": [
    "The use of RNN's is appropriate for sequence data in our dataset.\n",
    "\n",
    "After some tests with simpler models, the ***one layer LSTM with Adam optimizer and Dropout was chosen***. \n",
    "\n",
    "Given that configuration, randomly generated hyperparameter sets were evaluated to chose the one that giver better performance.\n",
    "\n",
    "***With the purpose of preventing false negatives and false positives, the metric chosen for hyperparameter search was F1-Score (dev set), which balances precision and recall.***"
   ]
  },
  {
   "cell_type": "code",
   "execution_count": 25,
   "metadata": {},
   "outputs": [],
   "source": [
    "# sorting data\n",
    "df.sort_values(by=['device','datenum'], inplace=True)\n",
    "\n",
    "# list of attributes that are going to be inputs for the model\n",
    "var_list = list()\n",
    "for i in range(1,11):\n",
    "    var_list.append('attribute'+str(i))"
   ]
  },
  {
   "cell_type": "markdown",
   "metadata": {},
   "source": [
    "We add a new feature that is the absolute number of failures up to d-1. This feature  can handle possible interactions between devices (to be tested on model)."
   ]
  },
  {
   "cell_type": "code",
   "execution_count": 26,
   "metadata": {},
   "outputs": [],
   "source": [
    "# new feature\n",
    "failures = df.groupby('datenum').failure.sum()\n",
    "failures=failures.shift(periods=1, freq=None, axis=0)\n",
    "failures=failures.to_frame()\n",
    "failures.reset_index(inplace=True)\n",
    "failures.fillna(0, inplace=True)\n",
    "failures.rename({'failure': 'attribute10'}, axis = 1, inplace=True)\n",
    "df=df.merge(failures, on = 'datenum', how = 'left')"
   ]
  },
  {
   "cell_type": "markdown",
   "metadata": {},
   "source": [
    "### Data prep"
   ]
  },
  {
   "cell_type": "markdown",
   "metadata": {},
   "source": [
    "- Sequence padding\n",
    "- Train/Dev/Validation sets\n",
    "- Scaling\n",
    "\n",
    "The sequences of timestamps per device have a 84 days median. In the following, we pad sequences to 10 days. After testing different intervals, this was the one that resulted in better performance.\n",
    "\n",
    "**Note: I am using 'dev set' and 'test set' terminology interchangeably**"
   ]
  },
  {
   "cell_type": "code",
   "execution_count": 27,
   "metadata": {},
   "outputs": [],
   "source": [
    "# model parameters\n",
    "EPOCHS = 600 # global var\n",
    "num_devices = np.unique(df.device).shape[0]\n",
    "data_dim = len(var_list)\n",
    "timesteps=10\n",
    "num_classes = 2"
   ]
  },
  {
   "cell_type": "code",
   "execution_count": 28,
   "metadata": {},
   "outputs": [],
   "source": [
    "# transforming data in np.arrays\n",
    "X = list()\n",
    "Y = list()\n",
    "for device in enumerate(np.unique(df.device)):\n",
    "    X.append(df[df.device==device[1]][var_list].values)\n",
    "    Y.append(df[df.device==device[1]]['failure'].values)"
   ]
  },
  {
   "cell_type": "code",
   "execution_count": 29,
   "metadata": {},
   "outputs": [
    {
     "name": "stdout",
     "output_type": "stream",
     "text": [
      "X_pad and Y_pad shapes:\n",
      "\n",
      "(1389, 10, 10)\n",
      "(1389, 10)\n"
     ]
    }
   ],
   "source": [
    "# Padding sequences\n",
    "\n",
    "# sequences: List of lists, where each element is a sequence.\n",
    "# returns x: Numpy array with shape (len(sequences), maxlen)\n",
    "\n",
    "X_pad = pad_sequences(\n",
    "    X, maxlen=timesteps, dtype='int32', \n",
    "    padding='pre', truncating='pre', value=0.0)\n",
    "\n",
    "Y_pad = pad_sequences(\n",
    "    Y, maxlen=timesteps, dtype='int32',\n",
    "    padding='pre', truncating='pre', value=0.0)\n",
    "\n",
    "print(\"X_pad and Y_pad shapes:\")\n",
    "print()\n",
    "print(X_pad.shape)\n",
    "print(Y_pad.shape)"
   ]
  },
  {
   "cell_type": "code",
   "execution_count": 30,
   "metadata": {},
   "outputs": [
    {
     "name": "stdout",
     "output_type": "stream",
     "text": [
      "The majority of failures it is already located at the end of the sequences:\n",
      "\n",
      "t0: 0\n",
      "t1: 0\n",
      "t2: 0\n",
      "t3: 0\n",
      "t4: 0\n",
      "t5: 0\n",
      "t6: 0\n",
      "t7: 2\n",
      "t8: 1\n",
      "t9: 101\n",
      "\n",
      "Of 106 failures in data, the padding has mantained 104\n"
     ]
    }
   ],
   "source": [
    "# Most of failure data is located at the end of the sequence or inside padding range\n",
    "print(\"The majority of failures it is already located at the end of the sequences:\")\n",
    "print()\n",
    "for i in range(timesteps):\n",
    "    print('t%d: %d'%(i,Y_pad[:,i].sum()))\n",
    "print()\n",
    "print(\"Of %d failures in data, the padding has mantained %d\"\n",
    "      %(df.failure.sum(),Y_pad.sum()))"
   ]
  },
  {
   "cell_type": "code",
   "execution_count": 31,
   "metadata": {},
   "outputs": [],
   "source": [
    "# Shuffling data\n",
    "np.random.seed(1)\n",
    "arr = np.arange(X_pad.shape[0]-1)\n",
    "np.random.shuffle(arr)\n",
    "\n",
    "# Train, Test, Validation datasets\n",
    "n_train = round(arr.shape[0]*0.6)\n",
    "n_test = round(arr.shape[0]*0.8)\n",
    "X_train, X_test, X_val = X_pad[arr[:n_train]],\\\n",
    "X_pad[arr[n_train:n_test]], X_pad[arr[n_test:]]\n",
    "\n",
    "Y_train, Y_test, Y_val = Y_pad[arr[:n_train]],\\\n",
    "Y_pad[arr[n_train:n_test]], Y_pad[arr[n_test:]]"
   ]
  },
  {
   "cell_type": "code",
   "execution_count": 32,
   "metadata": {},
   "outputs": [
    {
     "name": "stdout",
     "output_type": "stream",
     "text": [
      "Train X and Y shapes:\n",
      "\n",
      "(833, 10, 10)\n",
      "(833, 10)\n",
      "\n",
      "Test X and Y shapes:\n",
      "\n",
      "(277, 10, 10)\n",
      "(277, 10)\n",
      "\n",
      "Validation X and Y shapes:\n",
      "\n",
      "(278, 10, 10)\n",
      "(278, 10)\n",
      "\n"
     ]
    }
   ],
   "source": [
    "print('Train X and Y shapes:')\n",
    "print('')\n",
    "print(X_train.shape)\n",
    "print(Y_train.shape)\n",
    "print('')\n",
    "\n",
    "print('Test X and Y shapes:')\n",
    "print('')\n",
    "print(X_test.shape)\n",
    "print(Y_test.shape)\n",
    "print('')\n",
    "\n",
    "\n",
    "print('Validation X and Y shapes:')\n",
    "print('')\n",
    "print(X_val.shape)\n",
    "print(Y_val.shape)\n",
    "print('')"
   ]
  },
  {
   "cell_type": "code",
   "execution_count": 33,
   "metadata": {},
   "outputs": [],
   "source": [
    "# Reshaping Y\n",
    "Y_train, Y_test, Y_val = np.reshape(Y_train,(Y_train.shape)+(1,)),\\\n",
    "np.reshape(Y_test,(Y_test.shape)+(1,)),np.reshape(Y_val,(Y_val.shape)+(1,))"
   ]
  },
  {
   "cell_type": "markdown",
   "metadata": {},
   "source": [
    "We use minmax scaler in order to scale attributes.  Given the significative presence of outliers and sparsety we would have poor scaling using standart scaler or robust scaler."
   ]
  },
  {
   "cell_type": "code",
   "execution_count": 34,
   "metadata": {},
   "outputs": [],
   "source": [
    "def min_max_scaler(X_train, X_test, X_val):\n",
    "    'Scales data according to min and max'\n",
    "\n",
    "    min_ = X_train.min(axis = (0,1))\n",
    "    max_ = X_train.max(axis = (0,1))\n",
    "    max_min = max_ - min_\n",
    "\n",
    "    X_train = (X_train - min_)/max_min\n",
    "    X_test = (X_test - min_)/max_min\n",
    "    X_val = (X_val - min_)/max_min\n",
    "    \n",
    "    return X_train, X_test, X_val\n",
    "\n",
    "\n",
    "X_train, X_test, X_val = min_max_scaler(X_train, X_test, X_val)"
   ]
  },
  {
   "cell_type": "markdown",
   "metadata": {},
   "source": [
    "### Modelling helper functions"
   ]
  },
  {
   "cell_type": "code",
   "execution_count": 35,
   "metadata": {},
   "outputs": [],
   "source": [
    "def model_rnn_fit(hyperparameters, X_train, Y_train):\n",
    "    \n",
    "    'Returns RNN model fitted with determined hyperparameters'\n",
    "        \n",
    "    learning_rate = hyperparameters['learning_rate']\n",
    "    mini_batch_size = hyperparameters['mini_batch_size']\n",
    "    units_layer1 = hyperparameters['units_layer1']\n",
    "    units_layer2 = hyperparameters['units_layer2']\n",
    "    lambda_reg = hyperparameters['regularizers']\n",
    "    dropout_layer1 = hyperparameters['dropout_layer1']\n",
    "    dropout_layer2 = hyperparameters['dropout_layer2']\n",
    "    \n",
    "    optimizer = Adam(\n",
    "        lr=learning_rate, beta_1=0.9, beta_2=0.999,\n",
    "        epsilon=None, decay=0.0, amsgrad=False)\n",
    "    \n",
    "    model = Sequential()\n",
    "    \n",
    "    model.add(LSTM(\n",
    "        units=units_layer1, activation='tanh',use_bias=True,\n",
    "        unit_forget_bias=True,input_shape=(timesteps, data_dim),\n",
    "        return_sequences=True, kernel_regularizer=regularizers.l2(lambda_reg)))\n",
    "    \n",
    "    model.add(Dropout(dropout_layer1))\n",
    "    \n",
    "    \n",
    "    model.add(\n",
    "        Dense(1, activation='sigmoid', \n",
    "              kernel_regularizer=regularizers.l2(lambda_reg)))\n",
    "\n",
    "    model.compile(loss='binary_crossentropy',\n",
    "                  optimizer='adam',\n",
    "                  #sample_weight_mode=\"temporal\",\n",
    "                  metrics=['accuracy'])\n",
    "    \n",
    "    model.fit(X_train, Y_train, batch_size=mini_batch_size,\\\n",
    "              epochs=EPOCHS, verbose=False)#, sample_weight = sample_weights)\n",
    "    \n",
    "    return model"
   ]
  },
  {
   "cell_type": "code",
   "execution_count": 36,
   "metadata": {},
   "outputs": [],
   "source": [
    "def model_eval(model, hyperparameters, X_train, Y_train, X_test, Y_test):\n",
    "    \n",
    "    '''Evaluates model performance on the dev set'''\n",
    "    \n",
    "    mini_batch_size = hyperparameters['mini_batch_size']\n",
    "    \n",
    "    # Metrics for the training set\n",
    "    Y_train_line = np.reshape(Y_train, (-1))\n",
    "    Y_pred_train_line =  np.reshape(model.predict_classes(X_train), (-1))\n",
    "    train_loss = model.evaluate(\n",
    "        X_train, Y_train, batch_size=mini_batch_size, verbose=False)[0]\n",
    "    f1_score_train = f1_score(\n",
    "        Y_train_line,Y_pred_train_line)\n",
    "    \n",
    "    # Metrics for the dev set\n",
    "    Y_test_line = np.reshape(Y_test, (-1))\n",
    "    Y_pred_line =  np.reshape(model.predict_classes(X_test), (-1))\n",
    "    test_loss = model.evaluate(\n",
    "        X_test, Y_test, batch_size=mini_batch_size, verbose=False)[0]\n",
    "    f1_score_test = f1_score(Y_test_line,Y_pred_line)\n",
    "        \n",
    "    return train_loss, test_loss, f1_score_train, f1_score_test"
   ]
  },
  {
   "cell_type": "markdown",
   "metadata": {},
   "source": [
    "### Random generation of hyperparameter sets and model selection"
   ]
  },
  {
   "cell_type": "code",
   "execution_count": 37,
   "metadata": {},
   "outputs": [
    {
     "name": "stdout",
     "output_type": "stream",
     "text": [
      "20 hyperparameter sets randomly generated\n"
     ]
    }
   ],
   "source": [
    "def powers_of_two(lower_power = 7, upper_power = 8):\n",
    "    \n",
    "    '''Generates RNN layer units based on powers of 2'''\n",
    "    \n",
    "    units = np.arange(lower_power,upper_power)\n",
    "    units = np.exp2(units).astype(np.int32)  \n",
    "    return units\n",
    "\n",
    "def continuous_random_parameter(dim = 10):\n",
    "    \n",
    "    '''Generates random hyperparameters ranging \n",
    "    in different scales from 10^-3 to 10^-6'''\n",
    "        \n",
    "    alpha1 = 10*np.ones(dim)\n",
    "    sigma1 = np.zeros((dim))\n",
    "    \n",
    "    for i in np.arange(dim):\n",
    "        sigma1[i] = -3 - 3*np.random.rand()\n",
    "    \n",
    "    alpha1 = np.power(alpha1,sigma1).reshape(-1)\n",
    "\n",
    "    return alpha1\n",
    "\n",
    "def random_hyperparameters():\n",
    "    \n",
    "    '''Generates random hyperparameter sets \n",
    "    for each number of layer units in powers_of_two'''\n",
    "    \n",
    "    hpar_list = list()\n",
    "    \n",
    "    # units_layer\n",
    "    for n_units in powers_of_two(lower_power=7, upper_power=9):\n",
    "        for alpha, reg in zip(continuous_random_parameter(10), \n",
    "                              continuous_random_parameter(10)):\n",
    "                hpar_list.append({#'learning_rate': alpha,\n",
    "                                  #already optimized learning rate\n",
    "                                  'learning_rate': 0.0006284410793378367,\n",
    "                                  'mini_batch_size': 128,\n",
    "                                  'units_layer1': 256,\n",
    "                                  'units_layer2': 256,\n",
    "                                  'regularizers': reg,\n",
    "                                   # decreasing baseed on previous experience\n",
    "                                  'dropout_layer1': 0.4,\n",
    "                                  'dropout_layer2': 0.4})\n",
    "    \n",
    "    return hpar_list\n",
    "    \n",
    "random_hyperparameters_list = random_hyperparameters()\n",
    "print(\"%d hyperparameter sets randomly generated\"\n",
    "      %len(random_hyperparameters_list))"
   ]
  },
  {
   "cell_type": "markdown",
   "metadata": {},
   "source": [
    "As can be seen in the following plot, the random generation of regularizer constant and learning rate are well distributed in the log10 scale as we intended. This means that we are going to try parameters that range from 10^-1 to 10^-6 and are very well distributed along the different powers of 10."
   ]
  },
  {
   "cell_type": "code",
   "execution_count": 38,
   "metadata": {},
   "outputs": [
    {
     "data": {
      "image/png": "[encoded data removed]",
      "text/plain": [
       "<Figure size 432x288 with 1 Axes>"
      ]
     },
     "metadata": {
      "needs_background": "light"
     },
     "output_type": "display_data"
    }
   ],
   "source": [
    "x = [x['learning_rate'] for x in random_hyperparameters_list]\n",
    "y = [x['regularizers'] for x in random_hyperparameters_list]\n",
    "\n",
    "sns.scatterplot(x=np.log10(x), y=np.log10(y))\n",
    "plt.title('Log 10 scale (learning_rate x regularizer) parameters from random sample')\n",
    "plt.show()\n",
    "\n",
    "#This image is from a previous run"
   ]
  },
  {
   "cell_type": "code",
   "execution_count": 39,
   "metadata": {},
   "outputs": [],
   "source": [
    "def hyperparameter_selection(random_hyperparameters_list,\n",
    "                             X_train, Y_train, X_test, Y_test):\n",
    "    \n",
    "    '''Runs model fitting for a set of hyperparameters and\n",
    "    returns performance'''\n",
    "    \n",
    "    f1_score_list = list()\n",
    "    model_list = list()\n",
    "    eval_list = list()\n",
    "\n",
    "    for hyperparameters in random_hyperparameters_list:\n",
    "        model = model_rnn_fit(hyperparameters, X_train, Y_train)\n",
    "        eval_ = {}\n",
    "        eval_['train_loss'], eval_['test_loss'],\\\n",
    "        eval_['f1_score_train'], eval_['f1_score_test'] = model_eval(\n",
    "            model, \n",
    "            hyperparameters, \n",
    "            X_train, \n",
    "            Y_train, \n",
    "            X_test, \n",
    "            Y_test)\n",
    "\n",
    "        #print(hyperparameters)\n",
    "        f1_score_list.append(eval_['f1_score_test'])\n",
    "        model_list.append(model)\n",
    "        eval_list.append(eval_)\n",
    "        #pprint(eval_)\n",
    "        \n",
    "    return f1_score_list, model_list, eval_list"
   ]
  },
  {
   "cell_type": "code",
   "execution_count": 37,
   "metadata": {},
   "outputs": [],
   "source": [
    "f1_score_list, model_list, eval_list = hyperparameter_selection(\n",
    "    random_hyperparameters_list, X_train, Y_train, X_test, Y_test)"
   ]
  },
  {
   "cell_type": "markdown",
   "metadata": {},
   "source": [
    "### Selecting the model with highest F1-Score at dev set"
   ]
  },
  {
   "cell_type": "code",
   "execution_count": 38,
   "metadata": {},
   "outputs": [
    {
     "name": "stdout",
     "output_type": "stream",
     "text": [
      "The set of hyperparameters that resulted the larger f1_score on the dev set: \n",
      "\n",
      "{'dropout_layer1': 0.4,\n",
      "'dropout_layer2': 0.4,\n",
      "'learning_rate': 0.0006284410793378367,\n",
      "'mini_batch_size': 128,\n",
      "'regularizers': 2.4886443045300546e-05,\n",
      "'units_layer1': 256,\n",
      "'units_layer2': 256}\n",
      "\n",
      "\n",
      "Evaluation metrics for this set:\n",
      "\n",
      "{'f1_score_test': 0.4444444444444444,\n",
      "'f1_score_train': 0.7387387387387387,\n",
      "'test_loss': 0.03476696864900176,\n",
      "'train_loss': 0.01350163659897028}\n"
     ]
    }
   ],
   "source": [
    "# returns best model according to F1-measure at the dev set\n",
    "f1_score_max  = 0\n",
    "ind_max = 0\n",
    "for i,f1_score_test in enumerate(f1_score_list):\n",
    "    if f1_score_max < f1_score_test:\n",
    "        f1_score_max = f1_score_test\n",
    "        ind_max = i\n",
    "\n",
    "print('''The set of hyperparameters that resulted the \\\n",
    "larger f1_score on the dev set: ''')\n",
    "print('')\n",
    "pprint(random_hyperparameters_list[ind_max])\n",
    "print('')\n",
    "print('')\n",
    "\n",
    "\n",
    "print('Evaluation metrics for this set:')\n",
    "print('')\n",
    "pprint(eval_list[ind_max])"
   ]
  },
  {
   "cell_type": "markdown",
   "metadata": {},
   "source": [
    "### Performance at the validation set"
   ]
  },
  {
   "cell_type": "code",
   "execution_count": 45,
   "metadata": {},
   "outputs": [],
   "source": [
    "# Adicional: guardando dados de validação\n",
    "\n",
    "import pickle\n",
    "\n",
    "with open('X_val.pickle', 'wb') as handle:\n",
    "    pickle.dump(X_val, handle, protocol=pickle.HIGHEST_PROTOCOL)\n",
    "    \n",
    "with open('Y_val.pickle', 'wb') as handle:\n",
    "    pickle.dump(Y_val, handle, protocol=pickle.HIGHEST_PROTOCOL)"
   ]
  },
  {
   "cell_type": "code",
   "execution_count": 43,
   "metadata": {},
   "outputs": [
    {
     "name": "stdout",
     "output_type": "stream",
     "text": [
      "F1-Score for the validation set: 0.48\n",
      "\n",
      "Test loss: 0.035\n",
      "\n",
      "Validation loss: 0.030\n"
     ]
    }
   ],
   "source": [
    "# validation metrics -- here\n",
    "\n",
    "#model = model_list[ind_max]\n",
    "\n",
    "Y_val_line = np.reshape(Y_val, (-1))\n",
    "Y_pred_line =  np.reshape(model.predict_classes(X_val), (-1))\n",
    "\n",
    "# performance\n",
    "print(\"F1-Score for the validation set: %.2f\"\n",
    "      %f1_score(Y_val_line,Y_pred_line))\n",
    "\n",
    "val_loss = model.evaluate(\n",
    "        X_test, Y_test, batch_size=hyperparameters['mini_batch_size'], verbose=False)[0]\n",
    "print('')\n",
    "print('Test loss: %.3f'%val_loss)\n",
    "\n",
    "val_loss = model.evaluate(\n",
    "        X_val, Y_val, batch_size=hyperparameters['mini_batch_size'], verbose=False)[0]\n",
    "print('')\n",
    "print('Validation loss: %.3f'%val_loss)\n",
    "\n",
    "# confusion matrix for later use\n",
    "cf_matrix_validation = confusion_matrix(Y_val_line,Y_pred_line)"
   ]
  },
  {
   "cell_type": "markdown",
   "metadata": {},
   "source": [
    "There is not a significant variation between the loss on dev and validation sets. Therefore, we have achieved a good generalization from dev set to validation set. In this case F1-Score on the validation set is even better.\n",
    "\n",
    "The same thing cannot be said about the generalization from train to dev set, in which case the loss variation is slightly higher, from 0.01 to 0.03. We could try even more versions of the model, with more regularization, in order to reduce this distance. But, as we heve already done such variations at hyperparameter sets and this is the best dev set performance achieved. In my opition, if we could increase the number of data examples in both sets, the difference between train and dev set performances would be lower."
   ]
  },
  {
   "cell_type": "markdown",
   "metadata": {},
   "source": [
    "```python\n",
    "\n",
    "hyperparameters = {'dropout_layer1': 0.4,\n",
    "                   'dropout_layer2': 0.4,\n",
    "                   'learning_rate': 0.0006284410793378367,\n",
    "                   'mini_batch_size': 128,\n",
    "                   'regularizers': 2.4886443045300546e-05,\n",
    "                   'units_layer1': 256,\n",
    "                   'units_layer2': 256}\n",
    "\n",
    "```\n",
    "\n",
    "*** Only one layer in this version ***"
   ]
  },
  {
   "cell_type": "markdown",
   "metadata": {},
   "source": [
    "Saving model and hyperparameters"
   ]
  },
  {
   "cell_type": "code",
   "execution_count": 42,
   "metadata": {},
   "outputs": [],
   "source": [
    "# Winner hyperparameter set\n",
    "# hyperparameters = random_hyperparameters_list[ind_max]\n",
    "\n",
    "import pickle\n",
    "\n",
    "#with open('hyperparameters.pickle', 'wb') as handle:\n",
    "#    pickle.dump(hyperparameters, handle, protocol=pickle.HIGHEST_PROTOCOL)\n",
    "\n",
    "with open('hyperparameters.pickle', 'rb') as handle:\n",
    "    hyperparameters = pickle.load(handle)\n",
    "\n",
    "from tensorflow.keras.models import load_model\n",
    "\n",
    "#model.save('my_model.h5')  # creates a HDF5 file 'my_model.h5'\n",
    "#del model  # deletes the existing model\n",
    "\n",
    "# returns a compiled model\n",
    "# identical to the previous one\n",
    "model = load_model('my_model.h5')"
   ]
  },
  {
   "cell_type": "markdown",
   "metadata": {},
   "source": [
    "### Appendix 1 : Cost reduction"
   ]
  },
  {
   "cell_type": "markdown",
   "metadata": {},
   "source": [
    "Given the confusion matrix for the validation dataset with our best model so far, we make a simple estimation in order to illustrate the possible cost reduction with the use of the predictive model."
   ]
  },
  {
   "cell_type": "markdown",
   "metadata": {},
   "source": [
    "The percentage of variation in maintenance cost can be expressed as:"
   ]
  },
  {
   "cell_type": "markdown",
   "metadata": {},
   "source": [
    "$$ delta = (failure\\_count + failure\\_savings\\_count + ratio*predictive\\_maintenance\\_count)/failure\\_count-1 $$\n",
    "\n",
    "where **ratio** is the **unitary maintenance cost** over **unitary failure cost**\n",
    "\n",
    "Hence,\n",
    "\n",
    "$$ delta = (ratio*predictive\\_maintenance\\_count + failure\\_savings\\_count)/failure\\_count $$\n",
    "\n",
    "Finally, we estimate the reduction of failure costs considering a range of possible ratios : 10%, 20%, ... 100%."
   ]
  },
  {
   "cell_type": "code",
   "execution_count": 62,
   "metadata": {},
   "outputs": [],
   "source": [
    "# predicted y=1\n",
    "predictive_maintenance_count = cf_matrix_validation[:,1].sum()\n",
    "# actual y=1\n",
    "failure_count = cf_matrix_validation[1,:].sum()\n",
    "# predicted y=1 and actual y=1\n",
    "failure_savings_count = - cf_matrix_validation[1,1]\n",
    "\n",
    "# simulated ratio of predictive maintenance cost over failure cost\n",
    "ratio = np.ones([1,10]).cumsum()/10\n",
    "\n",
    "#delta\n",
    "delta_list = list()\n",
    "for r in ratio:\n",
    "    delta_list.append(\n",
    "        (predictive_maintenance_count*r + failure_savings_count)/failure_count)"
   ]
  },
  {
   "cell_type": "code",
   "execution_count": 63,
   "metadata": {},
   "outputs": [
    {
     "data": {
      "image/png": "[encoded data removed]",
      "text/plain": [
       "<Figure size 432x288 with 1 Axes>"
      ]
     },
     "metadata": {
      "needs_background": "light"
     },
     "output_type": "display_data"
    }
   ],
   "source": [
    "sns.barplot(x=ratio, y = delta_list)\n",
    "plt.title('% variation on maintenance costs according to cost ratio**')\n",
    "plt.show()"
   ]
  },
  {
   "cell_type": "code",
   "execution_count": 64,
   "metadata": {},
   "outputs": [
    {
     "name": "stdout",
     "output_type": "stream",
     "text": [
      "Thus, if the cost ratio is 20% the overall economy would be 27% and so forth\n"
     ]
    }
   ],
   "source": [
    "print('''Thus, if the cost ratio is 20% the overall economy would be \\\n",
    "{0:.0f}% and so forth'''.format(100*abs(delta_list[1])))"
   ]
  }
 ],
 "metadata": {
  "kernelspec": {
   "display_name": "Python 3",
   "language": "python",
   "name": "python3"
  },
  "language_info": {
   "codemirror_mode": {
    "name": "ipython",
    "version": 3
   },
   "file_extension": ".py",
   "mimetype": "text/x-python",
   "name": "python",
   "nbconvert_exporter": "python",
   "pygments_lexer": "ipython3",
   "version": "3.6.7"
  }
 },
 "nbformat": 4,
 "nbformat_minor": 2
}
