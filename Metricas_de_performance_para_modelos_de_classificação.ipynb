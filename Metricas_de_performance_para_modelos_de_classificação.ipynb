{
 "cells": [
  {
   "cell_type": "markdown",
   "metadata": {},
   "source": [
    "# Tutorial: Métricas de Performance para Modelos de Classificação"
   ]
  },
  {
   "cell_type": "markdown",
   "metadata": {},
   "source": [
    "### Introdução: Machine Learning na prática"
   ]
  },
  {
   "cell_type": "markdown",
   "metadata": {},
   "source": [
    "Em uma ***aplicação real de um algoritmo de Machine Learning***, é uma boa prática escolher previamente uma ***métrica de performance a ser otimizada***. Após uma primeira versão do algoritmo, são feitas novas versões em um processo iterativo de melhoria da performance. Escolher a ***métrica de performance adequada*** é uma das primeiras questões que um engenheiro de Machine Learning irá encontrar em uma aplicação real."
   ]
  },
  {
   "cell_type": "markdown",
   "metadata": {},
   "source": [
    "### Performance de um modelo de probabilidade de falha de equipamentos"
   ]
  },
  {
   "cell_type": "markdown",
   "metadata": {},
   "source": [
    "Considere a situação real de uma indústria que possui uma série de ***equipamentos em operação***. \n",
    "Notando que há uma significativa economia de recursos quando é feita a ***manutenção preventiva***, ou seja, se antecipa uma falha e previne-se a ocorrência da mesma, você propõe um ***modelo de Deep Learning que faz a previsão da probabilidade de falha, a partir dos dados de telemetria.***\n",
    "\n",
    "Os engenheiros gostaram da sua idéia mas estão céticos.\n",
    "\n",
    "No código a seguir você calcula a ***Acurácia*** do modelo (taxa de acerto) para convencê-los da qualidade do trabalho."
   ]
  },
  {
   "cell_type": "markdown",
   "metadata": {},
   "source": [
    "O código a seguir carrega as bibliotecas que iremos utilizar em Python, os dados que serão utilizados para validação e também um modelo de Deep Learning pré-treinado em um conjunto de dados de treino."
   ]
  },
  {
   "cell_type": "code",
   "execution_count": 1,
   "metadata": {},
   "outputs": [],
   "source": [
    "# Carrega as bibliotecas necessárias para o desenvolvimento\n",
    "\n",
    "# dataset manipulation and visualization\n",
    "import numpy as np\n",
    "import pickle\n",
    "import matplotlib\n",
    "import matplotlib.pyplot as plt\n",
    "%matplotlib inline\n",
    "import seaborn as sns\n",
    "from seaborn import regplot\n",
    "sns.set_style(\"whitegrid\")\n",
    "\n",
    "# modelling and diagnostics\n",
    "import tensorflow as tf\n",
    "from sklearn.metrics import f1_score, precision_score, recall_score,\\\n",
    "precision_recall_curve, confusion_matrix\n",
    "from tensorflow.keras.models import load_model"
   ]
  },
  {
   "cell_type": "code",
   "execution_count": 2,
   "metadata": {},
   "outputs": [],
   "source": [
    "# conjunto de dados de validação\n",
    "\n",
    "# X = dados de telemetria\n",
    "with open('X_val.pickle', 'rb') as handle:\n",
    "    X_val = pickle.load(handle)\n",
    "\n",
    "# Y = indicador de falha\n",
    "with open('Y_val.pickle', 'rb') as handle:\n",
    "    Y_val = pickle.load(handle)\n",
    "\n",
    "# modelo compilado pré treinado\n",
    "model = load_model('my_model.h5')"
   ]
  },
  {
   "cell_type": "markdown",
   "metadata": {},
   "source": [
    "Abaixo, verifica-se o formato dos arrays do conjunto de dados de validação, no qual iremos calcular a performance.\n",
    "\n",
    "- ***X_val: 278 exemplos de treinamento, 10 eventos temporais, e 10 campos de telemeria.***\n",
    "- ***Y_val: 270 exemplos de treinamento, 10 eventos temporais, indicador de falha.***"
   ]
  },
  {
   "cell_type": "code",
   "execution_count": 3,
   "metadata": {},
   "outputs": [
    {
     "name": "stdout",
     "output_type": "stream",
     "text": [
      "(278, 10, 10)\n",
      "(278, 10, 1)\n"
     ]
    }
   ],
   "source": [
    "# exibo o formato dos dados\n",
    "print(X_val.shape)\n",
    "print(Y_val.shape)"
   ]
  },
  {
   "cell_type": "markdown",
   "metadata": {},
   "source": [
    "Com os dados carregados e o modelo também, podemos calcular a Acurácia para o conjunto de validação:"
   ]
  },
  {
   "cell_type": "code",
   "execution_count": 4,
   "metadata": {},
   "outputs": [
    {
     "name": "stdout",
     "output_type": "stream",
     "text": [
      "\n",
      "Acurácia de validação: 0.994\n"
     ]
    }
   ],
   "source": [
    "# mudo o formato dos arrays para uma única linha\n",
    "Y_val_line = np.reshape(Y_val, (-1))\n",
    "\n",
    "# obtenho a previsão do modelo de probabilidade\n",
    "Y_pred_line =  np.reshape(model.predict_classes(X_val), (-1))\n",
    "\n",
    "# calculo acurácia\n",
    "val_acc = model.evaluate(\n",
    "        X_val, Y_val, verbose=False)[1]\n",
    "print('')\n",
    "print('Acurácia de validação: %.3f'%val_acc)\n",
    "\n",
    "# confusion matrix\n",
    "cf_matrix_validation = confusion_matrix(Y_val_line,Y_pred_line)"
   ]
  },
  {
   "cell_type": "markdown",
   "metadata": {},
   "source": [
    "Após calcular a acurácia do modelo e enviar para a equipe de engenharia, você recebe a seguinte resposta:\n",
    "\n",
    "*** Como eu podemos saber a economia dos custos de manutenção a partir desta métrica que nos enviou? ***\n",
    "\n",
    "Dica: Para calcular a redução de custos, você precisa considerar os ***Falsos Positivos*** e ***Falsos Negativos***. Portanto, determinar a Acurácia somente, não ajuda muito no convencimento da equipe de engenharia. \n",
    "\n",
    "A presença de falsos positivos gera custo adicional de manutenção, e a presença de falsos negativos geraria custos ligados a falha não detectada.\n",
    "\n",
    "Para se ter uma idéia melhor do que está acontecendo no modelo é sempre válido olhar a matriz de confusão:\n",
    "\n",
    "- linhas : valor verdadeiro\n",
    "- colunas : predição"
   ]
  },
  {
   "cell_type": "code",
   "execution_count": 5,
   "metadata": {},
   "outputs": [
    {
     "name": "stdout",
     "output_type": "stream",
     "text": [
      "[[2755    6]\n",
      " [  11    8]]\n"
     ]
    }
   ],
   "source": [
    "# confusion matrix\n",
    "cf_matrix_validation = confusion_matrix(Y_val_line,Y_pred_line)\n",
    "\n",
    "print(cf_matrix_validation)"
   ]
  },
  {
   "cell_type": "markdown",
   "metadata": {},
   "source": [
    "Uma outra forma de ver que o resultado de 99,4% de acurácia não é informativo é calcular o % de falhas de equipamentos no conjunto de dados:"
   ]
  },
  {
   "cell_type": "code",
   "execution_count": 6,
   "metadata": {},
   "outputs": [
    {
     "name": "stdout",
     "output_type": "stream",
     "text": [
      "0.007\n"
     ]
    }
   ],
   "source": [
    "# % de falhas de equipamentos\n",
    "print(\"%.3f\"%(np.sum(Y_val)/Y_val.size))"
   ]
  },
  {
   "cell_type": "markdown",
   "metadata": {},
   "source": [
    "Com o percentual de 0,07% de falhas, um modelo constante Y_val = 0, teria acurácia de 99,3%, e seria completamente inútil."
   ]
  },
  {
   "cell_type": "markdown",
   "metadata": {},
   "source": [
    "### Precision, Recall\n",
    "Uma forma de capturar os efeitos dos ***Falsos Positivos e Falsos Negativos, bem como os casos em que há acerto*** na detecão da falha é utilizar seguintes métricas:\n",
    "\n",
    "***Precision: # de falhas detectadas / # falhas apontadas pelo modelo***\n",
    "\n",
    "***Recall: # de falhas detectadas / # falhas totais***\n",
    "\n",
    "![fonte: Wikipedia](https://upload.wikimedia.org/wikipedia/commons/2/26/Precisionrecall.svg)\n",
    "fonte: Wikipedia https://en.wikipedia.org/wiki/Precision_and_recall"
   ]
  },
  {
   "cell_type": "code",
   "execution_count": 7,
   "metadata": {},
   "outputs": [
    {
     "name": "stdout",
     "output_type": "stream",
     "text": [
      "Precision para o dataset de validação: 0.57\n",
      "Recall para o dataset de validação: 0.42\n"
     ]
    }
   ],
   "source": [
    "# performance\n",
    "print(\"Precision para o dataset de validação: %.2f\"\n",
    "      %precision_score(Y_val_line,Y_pred_line))\n",
    "\n",
    "# performance\n",
    "print(\"Recall para o dataset de validação: %.2f\"\n",
    "      %recall_score(Y_val_line,Y_pred_line))"
   ]
  },
  {
   "cell_type": "markdown",
   "metadata": {},
   "source": [
    "Acima, quando calculamos a previsão do modelo, implicitamente, verificamos se a probabilidade de falha era maior do que 50% (p > 0.5). \n",
    "\n",
    "Conforme vamos aumentando a probabilidade de corte [0.4, 0.5, 0.6 ...] , a precisão do modelo tende a ser maior e menor a quantidade de eventos de falha são capturados, portanto menor o Recall.\n",
    "\n",
    "Fica claro então, que há um trade off entre Precision e Recall. Este trade off pode ser verificado para nosso conjunto de dados através da curva Precision x Recall abaixo:"
   ]
  },
  {
   "cell_type": "code",
   "execution_count": 8,
   "metadata": {},
   "outputs": [],
   "source": [
    "# probabilidade de falha\n",
    "Y_prob_line =  np.reshape(model.predict_proba(X_val), (-1))\n",
    "\n",
    "# curva de precision recall\n",
    "pr_curve = precision_recall_curve(Y_val_line,Y_prob_line)"
   ]
  },
  {
   "cell_type": "code",
   "execution_count": 9,
   "metadata": {},
   "outputs": [
    {
     "name": "stderr",
     "output_type": "stream",
     "text": [
      "/home/nocedan/cshg-pyenv/lib/python3.6/site-packages/scipy/stats/stats.py:1713: FutureWarning: Using a non-tuple sequence for multidimensional indexing is deprecated; use `arr[tuple(seq)]` instead of `arr[seq]`. In the future this will be interpreted as an array index, `arr[np.array(seq)]`, which will result either in an error or a different result.\n",
      "  return np.add.reduce(sorted[indexer] * weights, axis=axis) / sumval\n"
     ]
    },
    {
     "data": {
      "image/png": "[encoded data removed]",
      "text/plain": [
       "<Figure size 1296x648 with 1 Axes>"
      ]
     },
     "metadata": {
      "needs_background": "light"
     },
     "output_type": "display_data"
    }
   ],
   "source": [
    "# Verifica o trade off para entre as taxas para diferentes pontos de corte\n",
    "fig, ax = plt.subplots(figsize=(18,9))\n",
    "ax = regplot(x = pr_curve[0], y = pr_curve[1], ax=ax)\n",
    "plt.show()"
   ]
  },
  {
   "cell_type": "markdown",
   "metadata": {},
   "source": [
    "### F1-Score\n",
    "\n",
    "Os engenheiros ficam satisfeitos porque conseguem relacionar a metrica de performance com a redução de custo de manutenção. \n",
    "\n",
    "Quando você conta isso à sua equipe, eles ficam felizes, mas há um problema. Durante o processo de modelagem, há muitas iterações do algoritmo. Quando estamos lidando com duas ou três métricas, Precision, Recall e Accuracy, pode ser difícil de avaliar rapidamente se houve uma melhoria no algoritmo de uma iteração para outra. \n",
    "\n",
    "Como saída para este dilema, você propõe a utilização do F1-Score. Que funciona como uma espécie de média entre Precision e Recall:"
   ]
  },
  {
   "cell_type": "markdown",
   "metadata": {},
   "source": [
    "\\begin{align}\n",
    "F = 2*\\frac{Precision*Recall}{Precision + Recall}\n",
    "\\end{align}"
   ]
  },
  {
   "cell_type": "code",
   "execution_count": 10,
   "metadata": {},
   "outputs": [
    {
     "name": "stdout",
     "output_type": "stream",
     "text": [
      "F1-Score f para o dataset de validação: 0.48\n"
     ]
    }
   ],
   "source": [
    "# F1-score\n",
    "print(\"F1-Score f para o dataset de validação: %.2f\"\n",
    "      %f1_score(Y_val_line,Y_pred_line))"
   ]
  },
  {
   "cell_type": "markdown",
   "metadata": {},
   "source": [
    "Como esperado, o F1-Score está no intervalo entre o valor de precision e recall, que é [.57, .42]"
   ]
  }
 ],
 "metadata": {
  "kernelspec": {
   "display_name": "Python 3",
   "language": "python",
   "name": "python3"
  },
  "language_info": {
   "codemirror_mode": {
    "name": "ipython",
    "version": 3
   },
   "file_extension": ".py",
   "mimetype": "text/x-python",
   "name": "python",
   "nbconvert_exporter": "python",
   "pygments_lexer": "ipython3",
   "version": "3.6.7"
  }
 },
 "nbformat": 4,
 "nbformat_minor": 2
}
